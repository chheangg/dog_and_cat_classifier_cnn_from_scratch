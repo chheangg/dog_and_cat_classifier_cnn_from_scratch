{
 "cells": [
  {
   "cell_type": "markdown",
   "id": "a6d5f09f",
   "metadata": {},
   "source": [
    "# Resources & Acknowledgements\n",
    "\n",
    "While planning this book, I often found myself wondering what my Linear Algebra and ODE professor, Lin Bong-Soon, would have said in his lectures. My goal was to emulate how other works achieve a tone of profound rigor in their acknowledgements—often through opening with a saying from a great physicist (or mathematician)—so this work could supposedly stand alongside other well-crafted ML/AI resources. Professor Lin and I both know that Evan rarely attended class, which makes this entire endeavor somewhat ironic.\n",
    "\n",
    "Fret not, I made the effort to look through my old emails and found this gem from him:\n",
    ">\"If you do decide to pick something that matters to you, then focus on mastery, instead of achievement. Mastery is current, future-proof, and demonstrable; achievement is past-tense and soon irrelevant. (I refer to personal achievement—not, for instance, an achievement that saved the world.) I'm not saying achievement isn't great; mastery is simply better.\"\n",
    "\n",
    "Somewhat it resonates greatly with what I am trying to achieve. Instead of just building a simple ML/AI project by using a pretrained model from YouTube and then calling it a day, I want to actually master the basics of ML/AI through a Herculean task—by building a super-duper complex ML model from scratch to be able to tell if that image you took was of a cat, a dog, or neither (a problem worth challenging!).\n",
    "\n",
    "Anyways you innocent reader, if you have made this far, then I will reveal what are used in this project. This project is built as a learning exercise, the following explanation, analysis and theoretical foundations are based upon these incredible resources:\n",
    "- **Pattern Recognition and Machine Learning (2006)** by Christopher M. Bishop. This textbook was my primary guide for understanding the core mathematical concepts of machine learning.\n",
    "- **Hands-On Machine Learning with Scikit-Learn, Keras, and TensorFlow** by Aurélien Géron. This book was instrumental for practical implementation and deployment guidance.\n",
    "- **Deep Learning Research Papers:**\n",
    "  - He, K., Zhang, X., Ren, S., & Sun, J. (2015). [Deep Residual Learning for Image Recognition](https://arxiv.org/abs/1512.03385)  \n",
    "    *The architectural blueprint for the ResNet model at the core of this project.*\n",
    "  - LeCun, Y., Bottou, L., Bengio, Y., & Haffner, P. (1998). [Gradient-Based Learning Applied to Document Recognition](http://yann.lecun.com/exdb/publis/pdf/lecun-98.pdf)  \n",
    "    *The foundational paper that established the modern convolutional neural network (CNN) architecture.*\n",
    "\n",
    "- **AWS Documentation** for ECS, SageMaker, CodeDeploy, and CodePipeline.\n",
    "\n",
    "They are-what my generation coined-the goat of resources. Without them,"
   ]
  },
  {
   "cell_type": "markdown",
   "id": "81ce7c8c",
   "metadata": {},
   "source": []
  }
 ],
 "metadata": {
  "language_info": {
   "name": "python"
  }
 },
 "nbformat": 4,
 "nbformat_minor": 5
}
