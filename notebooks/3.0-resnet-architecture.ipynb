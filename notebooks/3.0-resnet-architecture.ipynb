{
 "cells": [
  {
   "cell_type": "markdown",
   "id": "4916fa48",
   "metadata": {},
   "source": [
    "# 3.0 ResNet Architecture\n",
    "The ResNet architecture introduces the **Residual Learning** block, a fundamental improvement on deeper models. We will talk about the motivation for a deeper neural network, the core problem that hinders it, and how ResNet mitigates this problem. \n",
    "\n",
    "For this notebook, I'd like to quote my Multivariable Calculus professor, I-Shen Lai. Say hello to Professor Lai!\n",
    "\n",
    "> \"Haha... you can quote me if you want.\"\n",
    "> I-Shen Lai, September 3rd 2025.\n",
    "\n",
    "## 3.1 Deep Learning\n",
    "Deep Learning models are made up of multiple sequential layers of other model, usually composed of the models we made in earlier notebooks. The addition of newer layers allow for more representation of complex features, allowing more information to be learned resulting in an even lower loss [[1]](#ref1).\n",
    "\n",
    "However, there is a limit to the number of layers we can effectively add. In practice, when we reach tens of layers, the model faces a **Degradation Problem** that result in stagnant accuracy, accompanied by higher training errors [[1]](#ref). \n",
    "\n",
    "He et al. proposed that the layers themselves could not fit or approximate to the **identity function**, which is the function that simply return input itself [[1]](#ref).\n",
    "\n",
    "So if we could somehow skip layers we deem useless or that it would just result in overfitting, then theoretically, we could improve our model, where adding additional layers would not worsen its performance.\n",
    "> *Drum Rolls*\n",
    "## 3.2 Residual Learning Block"
   ]
  },
  {
   "cell_type": "markdown",
   "id": "e785be68",
   "metadata": {},
   "source": [
    "## References\n",
    "<a name=\"ref1\">[1]</a> K. He, C. Zhang, S. Ren, and J. Sun, \"Deep residual learning for image recognition,\" in Proceedings of the IEEE Conference on Computer Vision and Pattern Recognition (CVPR), 2016, pp. 770-778."
   ]
  }
 ],
 "metadata": {
  "language_info": {
   "name": "python"
  }
 },
 "nbformat": 4,
 "nbformat_minor": 5
}
