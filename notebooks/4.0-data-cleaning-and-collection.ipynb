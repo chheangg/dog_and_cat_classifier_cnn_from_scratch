{
 "cells": [
  {
   "cell_type": "markdown",
   "id": "530498cb",
   "metadata": {},
   "source": [
    "# 4.0 Data Cleaning and Collection\n",
    "With our ResNet-50 model constructed. Data are required to train our model so that we can classify our pictures into \"Dog\", \"Cat\", or neither. We will work through by first sourcing the data, then we would rescale it, and finally, convert it into a suitable `DataLoader` class.\n",
    "\n",
    "## 4.1 Data Sourcing\n",
    "Kaggle is a great site to find datasets and even test your model on them to compare it to others. We will use this [Kaggle dataset for dogs and cats classification](https://www.kaggle.com/datasets/bhavikjikadara/dog-and-cat-classification-dataset/data).\n",
    "\n",
    "Let's export the kaggle dataset into `data/raw`"
   ]
  },
  {
   "cell_type": "code",
   "execution_count": null,
   "id": "6e5b1e0a",
   "metadata": {},
   "outputs": [],
   "source": [
    "!kaggle datasets download -d bhavikjikadara/dog-and-cat-classification-dataset -p ../data/raw"
   ]
  },
  {
   "cell_type": "markdown",
   "id": "ad14b4b3",
   "metadata": {},
   "source": [
    "With the dataset downloaded, then we unzip it."
   ]
  },
  {
   "cell_type": "code",
   "execution_count": null,
   "id": "94af8879",
   "metadata": {},
   "outputs": [],
   "source": [
    "from zipfile import ZipFile\n",
    "\n",
    "raw_folder = '../data/raw'\n",
    "\n",
    "with ZipFile(raw_folder + '/dog-and-cat-classification-dataset.zip', 'r') as zip_ref:\n",
    "    zip_ref.extractall(raw_folder)\n",
    "    \n",
    "!mv ../data/raw/PetImages/* ../data/raw\n",
    "!rm -rf ../data/raw/PetImages"
   ]
  },
  {
   "cell_type": "markdown",
   "id": "1ab8a89c",
   "metadata": {},
   "source": [
    "With the image dataset exported to our raw folder. Let's load them into our notebook."
   ]
  },
  {
   "cell_type": "code",
   "execution_count": null,
   "id": "062f5667",
   "metadata": {},
   "outputs": [],
   "source": [
    "import os\n",
    "import matplotlib.pyplot as plt\n",
    "import random\n",
    "import cv2\n",
    "\n",
    "def load_raw_images():\n",
    "    raw_cat_images = []\n",
    "    raw_dog_images = []\n",
    "    \n",
    "    for filename in os.listdir(raw_folder + '/Cat'):\n",
    "        img = cv2.imread(raw_folder + '/Cat/' + filename)\n",
    "        if img is None:\n",
    "            continue\n",
    "        img = cv2.cvtColor(img, cv2.COLOR_BGR2RGB)\n",
    "        raw_cat_images.append(img)\n",
    "        \n",
    "    for filename in os.listdir(raw_folder + '/Dog'):\n",
    "        img = cv2.imread(raw_folder + '/Dog/' + filename)\n",
    "        if img is None:\n",
    "            continue\n",
    "        img = cv2.cvtColor(img, cv2.COLOR_BGR2RGB)  # BGR -> RGB\n",
    "        raw_dog_images.append(img)\n",
    "        \n",
    "    return (raw_cat_images, raw_dog_images)"
   ]
  },
  {
   "cell_type": "code",
   "execution_count": null,
   "id": "7e359faa",
   "metadata": {},
   "outputs": [],
   "source": [
    "raw_cat_images, raw_dog_images = load_raw_images()"
   ]
  },
  {
   "cell_type": "markdown",
   "id": "f9e5a0b0",
   "metadata": {},
   "source": [
    "With the raw images loaded, let's build a function to visualize it. It'll be super cute!"
   ]
  },
  {
   "cell_type": "code",
   "execution_count": null,
   "id": "7896d01b",
   "metadata": {},
   "outputs": [],
   "source": [
    "def visualize_pet_images(raw_cat_images, raw_dog_images):\n",
    "    _, ax = plt.subplots(5, 5, figsize=(8, 8))\n",
    "    for i in range(5):\n",
    "        for j in range(5):\n",
    "            is_cat = random.randint(0, 1)\n",
    "            cat_images_len = len(raw_cat_images)\n",
    "            dog_images_len = len(raw_dog_images)\n",
    "            \n",
    "            label = \"Cat\" if is_cat else \"Dog\"\n",
    "            \n",
    "            ax[i, j].imshow(raw_cat_images[random.randint(0, cat_images_len - 1)] if is_cat\n",
    "                            else raw_dog_images[random.randint(0, dog_images_len - 1)])\n",
    "            ax[i, j].axis(\"off\")\n",
    "            ax[i, j].set_title(label)\n",
    "visualize_pet_images(raw_cat_images, raw_dog_images)"
   ]
  },
  {
   "cell_type": "markdown",
   "id": "eda60a51",
   "metadata": {},
   "source": [
    "Cute huh!"
   ]
  }
 ],
 "metadata": {
  "kernelspec": {
   "display_name": "base",
   "language": "python",
   "name": "python3"
  },
  "language_info": {
   "codemirror_mode": {
    "name": "ipython",
    "version": 3
   },
   "file_extension": ".py",
   "mimetype": "text/x-python",
   "name": "python",
   "nbconvert_exporter": "python",
   "pygments_lexer": "ipython3",
   "version": "3.10.18"
  }
 },
 "nbformat": 4,
 "nbformat_minor": 5
}
