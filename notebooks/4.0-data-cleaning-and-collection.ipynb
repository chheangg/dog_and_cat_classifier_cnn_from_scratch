{
 "cells": [
  {
   "cell_type": "markdown",
   "id": "530498cb",
   "metadata": {},
   "source": [
    "# 4.0 Data Cleaning and Collection\n",
    "With our ResNet-50 model constructed. Data are required to train our model so that we can classify our pictures into \"Dog\", \"Cat\", or neither. We will work through by first sourcing the data, then we would rescale it, and finally, convert it into a suitable `DataLoader` class.\n",
    "\n",
    "## 4.1 Data Sourcing\n",
    "Kaggle is a great site to find datasets and even test your model on them to compare it to others. We will use this [Kaggle dataset for dogs and cats classification](https://www.kaggle.com/datasets/bhavikjikadara/dog-and-cat-classification-dataset/data).\n",
    "\n",
    "Let's export the kaggle dataset into `data/raw`"
   ]
  },
  {
   "cell_type": "code",
   "execution_count": null,
   "id": "6e5b1e0a",
   "metadata": {},
   "outputs": [
    {
     "ename": "SyntaxError",
     "evalue": "invalid syntax (2995798314.py, line 1)",
     "output_type": "error",
     "traceback": [
      "\u001b[0;36m  Cell \u001b[0;32mIn[3], line 1\u001b[0;36m\u001b[0m\n\u001b[0;31m    kaggle datasets download -d bhavikjikadara/dog-and-cat-classification-dataset ../data/raw\u001b[0m\n\u001b[0m           ^\u001b[0m\n\u001b[0;31mSyntaxError\u001b[0m\u001b[0;31m:\u001b[0m invalid syntax\n"
     ]
    }
   ],
   "source": [
    "!kaggle datasets download -d bhavikjikadara/dog-and-cat-classification-dataset ../data/raw"
   ]
  }
 ],
 "metadata": {
  "kernelspec": {
   "display_name": "base",
   "language": "python",
   "name": "python3"
  },
  "language_info": {
   "codemirror_mode": {
    "name": "ipython",
    "version": 3
   },
   "file_extension": ".py",
   "mimetype": "text/x-python",
   "name": "python",
   "nbconvert_exporter": "python",
   "pygments_lexer": "ipython3",
   "version": "3.10.18"
  }
 },
 "nbformat": 4,
 "nbformat_minor": 5
}
